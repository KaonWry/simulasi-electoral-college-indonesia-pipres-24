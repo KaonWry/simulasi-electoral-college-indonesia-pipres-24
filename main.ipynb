{
 "cells": [
  {
   "cell_type": "markdown",
   "metadata": {},
   "source": [
    "# Simulasi Electoral College Indonesia dalam Pemilihan Umum Presiden 2024"
   ]
  },
  {
   "cell_type": "markdown",
   "metadata": {},
   "source": [
    "## Import Database dari 'data.xlsx'"
   ]
  },
  {
   "cell_type": "code",
   "execution_count": null,
   "metadata": {},
   "outputs": [],
   "source": [
    "import pandas\n",
    "kursi = pandas.read_excel(io='data.xlsx', sheet_name='kursi').sort_values(by='provinsi')\n",
    "vote = pandas.read_excel(io='data.xlsx', sheet_name='vote').sort_values(by='provinsi')\n",
    "print (kursi)\n",
    "print (vote)"
   ]
  },
  {
   "cell_type": "markdown",
   "metadata": {},
   "source": [
    "## Gabung kedua dataframe"
   ]
  },
  {
   "cell_type": "code",
   "execution_count": null,
   "metadata": {},
   "outputs": [],
   "source": [
    "vote = pandas.merge(vote, kursi[['provinsi', 'kursi']], on='provinsi', how='left')\n",
    "print (vote)"
   ]
  },
  {
   "cell_type": "markdown",
   "metadata": {},
   "source": [
    "## Cari siapa yang menang dari ketiga pasangan calon pada setiap provinsi"
   ]
  },
  {
   "cell_type": "code",
   "execution_count": null,
   "metadata": {},
   "outputs": [],
   "source": [
    "vote['menang'] = vote.iloc[:, 1:].idxmax(axis=1)\n",
    "print (vote)"
   ]
  },
  {
   "cell_type": "markdown",
   "metadata": {},
   "source": [
    "## Cari total suara dari setiap provinsi"
   ]
  },
  {
   "cell_type": "code",
   "execution_count": null,
   "metadata": {},
   "outputs": [],
   "source": [
    "electoralVote = {'penis': 0, 'pororo': 0, 'janggar': 0}\n",
    "\n",
    "for index, row in vote.iterrows():\n",
    "    # Extract the winner from the 'menang' column\n",
    "    winner_column = row['menang']\n",
    "    # Update the electoral votes dictionary based on the winner\n",
    "    electoralVote[winner_column] += row['kursi']\n",
    "    \n",
    "# print (electoralVote)\n",
    "print (f'Jumlah perolehan suara\\n\\\n",
    "01 = {electoralVote['penis']}\\n\\\n",
    "02 = {electoralVote['pororo']}\\n\\\n",
    "03 = {electoralVote['janggar']}\\\n",
    "    ')"
   ]
  }
 ],
 "metadata": {
  "kernelspec": {
   "display_name": "Python 3",
   "language": "python",
   "name": "python3"
  },
  "language_info": {
   "codemirror_mode": {
    "name": "ipython",
    "version": 3
   },
   "file_extension": ".py",
   "mimetype": "text/x-python",
   "name": "python",
   "nbconvert_exporter": "python",
   "pygments_lexer": "ipython3",
   "version": "3.12.2"
  }
 },
 "nbformat": 4,
 "nbformat_minor": 2
}
