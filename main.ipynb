{
 "cells": [
  {
   "cell_type": "markdown",
   "metadata": {},
   "source": [
    "# Simulasi Electoral College Indonesia dalam Pemilihan Umum Presiden 2024"
   ]
  },
  {
   "cell_type": "markdown",
   "metadata": {},
   "source": [
    "## Import Database dari 'data.xlsx'"
   ]
  },
  {
   "cell_type": "code",
   "execution_count": 57,
   "metadata": {},
   "outputs": [
    {
     "name": "stdout",
     "output_type": "stream",
     "text": [
      "     provinsi  kursi\n",
      "0        aceh     13\n",
      "8       babel      3\n",
      "16       bali      9\n",
      "15     banten     22\n",
      "6    bengkulu      4\n",
      "28  gorontalo      3\n",
      "11      jabar     91\n",
      "10    jakarta     21\n",
      "4       jambi      8\n",
      "12     jateng     77\n",
      "14      jatim     87\n",
      "13      jogja      8\n",
      "19     kalbar     12\n",
      "21     kalsel     11\n",
      "20    kalteng      6\n",
      "22     kaltim      8\n",
      "23      kalut      3\n",
      "7     lampung     20\n",
      "30     maluku      4\n",
      "31      malut      3\n",
      "17        ntb     11\n",
      "18        ntt     13\n",
      "36     papbar      3\n",
      "35      papeg      3\n",
      "33     papsel      3\n",
      "34    papteng      3\n",
      "32      papua      3\n",
      "37     paraya      3\n",
      "9        riau      4\n",
      "3        riau     13\n",
      "29     sulbar      4\n",
      "26     sulsel     24\n",
      "25    sulteng      7\n",
      "27     sultra      6\n",
      "24      sulut      6\n",
      "2      sumbar     14\n",
      "5      sumsel     17\n",
      "1       sumut     30\n",
      "     provinsi    penis    pororo  janggar\n",
      "0        aceh  1859259    557883    55891\n",
      "16      babel   172523    459074   132521\n",
      "1        bali    50584    824941   683831\n",
      "2      banten  1858836   3091433   546203\n",
      "3    bengkulu   217439    841841   139504\n",
      "6   gorontalo   198219    443241    36712\n",
      "8       jabar  6818588  12626407  2122700\n",
      "5     jakarta  1918497   1936508   814454\n",
      "7       jambi   431510   1166642   194276\n",
      "9      jateng  2585333  10811896  6990833\n",
      "10      jatim  3354742  14198523  3820276\n",
      "4       jogja   385533   1000769   585693\n",
      "11     kalbar   596637   1570661   426642\n",
      "12     kalsel   604694    964327   110159\n",
      "13    kalteng   201082    840220   124659\n",
      "14     kaltim   305970   1065322   165157\n",
      "15      kalut    60400    232398    40670\n",
      "18    lampung   727297   3244055   705979\n",
      "19     maluku   114652    377669   102825\n",
      "20      malut   122626    279884    57248\n",
      "21        ntb   688093   1765849   205094\n",
      "22        ntt   108043   1255332   681944\n",
      "24     papbar     9684     50381    23024\n",
      "26      papeg      145       439      141\n",
      "27     papsel     6167     40093    11562\n",
      "28    papteng     6312     34070    15143\n",
      "23      papua    20289    111313    55215\n",
      "25     paraya    20750     88647    35321\n",
      "17       riau   225401    384188    81222\n",
      "29       riau   977839   1314200   239200\n",
      "30     sulbar   206371    488949    58009\n",
      "31     sulsel  1613417   2410205   208836\n",
      "32    sulteng   311145    990118   126655\n",
      "33     sultra   307760    935591    79018\n",
      "34      sulut   111622   1143051   263214\n",
      "35     sumbar  1514470   1062354   106266\n",
      "36     sumsel   816248   2964478   497294\n",
      "37      sumut  1440405   2922497   609975\n"
     ]
    }
   ],
   "source": [
    "import pandas\n",
    "kursi = pandas.read_excel(io='data.xlsx', sheet_name='kursi').sort_values(by='provinsi')\n",
    "vote = pandas.read_excel(io='data.xlsx', sheet_name='vote').sort_values(by='provinsi')\n",
    "print (kursi)\n",
    "print (vote)"
   ]
  },
  {
   "cell_type": "markdown",
   "metadata": {},
   "source": [
    "## Gabung kedua dataframe"
   ]
  },
  {
   "cell_type": "code",
   "execution_count": 58,
   "metadata": {},
   "outputs": [
    {
     "name": "stdout",
     "output_type": "stream",
     "text": [
      "     provinsi    penis    pororo  janggar  kursi\n",
      "0        aceh  1859259    557883    55891     13\n",
      "1       babel   172523    459074   132521      3\n",
      "2        bali    50584    824941   683831      9\n",
      "3      banten  1858836   3091433   546203     22\n",
      "4    bengkulu   217439    841841   139504      4\n",
      "5   gorontalo   198219    443241    36712      3\n",
      "6       jabar  6818588  12626407  2122700     91\n",
      "7     jakarta  1918497   1936508   814454     21\n",
      "8       jambi   431510   1166642   194276      8\n",
      "9      jateng  2585333  10811896  6990833     77\n",
      "10      jatim  3354742  14198523  3820276     87\n",
      "11      jogja   385533   1000769   585693      8\n",
      "12     kalbar   596637   1570661   426642     12\n",
      "13     kalsel   604694    964327   110159     11\n",
      "14    kalteng   201082    840220   124659      6\n",
      "15     kaltim   305970   1065322   165157      8\n",
      "16      kalut    60400    232398    40670      3\n",
      "17    lampung   727297   3244055   705979     20\n",
      "18     maluku   114652    377669   102825      4\n",
      "19      malut   122626    279884    57248      3\n",
      "20        ntb   688093   1765849   205094     11\n",
      "21        ntt   108043   1255332   681944     13\n",
      "22     papbar     9684     50381    23024      3\n",
      "23      papeg      145       439      141      3\n",
      "24     papsel     6167     40093    11562      3\n",
      "25    papteng     6312     34070    15143      3\n",
      "26      papua    20289    111313    55215      3\n",
      "27     paraya    20750     88647    35321      3\n",
      "28       riau   225401    384188    81222      4\n",
      "29       riau   225401    384188    81222     13\n",
      "30       riau   977839   1314200   239200      4\n",
      "31       riau   977839   1314200   239200     13\n",
      "32     sulbar   206371    488949    58009      4\n",
      "33     sulsel  1613417   2410205   208836     24\n",
      "34    sulteng   311145    990118   126655      7\n",
      "35     sultra   307760    935591    79018      6\n",
      "36      sulut   111622   1143051   263214      6\n",
      "37     sumbar  1514470   1062354   106266     14\n",
      "38     sumsel   816248   2964478   497294     17\n",
      "39      sumut  1440405   2922497   609975     30\n"
     ]
    }
   ],
   "source": [
    "vote = pandas.merge(vote, kursi[['provinsi', 'kursi']], on='provinsi', how='left')\n",
    "print (vote)"
   ]
  },
  {
   "cell_type": "markdown",
   "metadata": {},
   "source": [
    "## Cari siapa yang menang dari ketiga pasangan calon pada setiap provinsi"
   ]
  },
  {
   "cell_type": "code",
   "execution_count": 59,
   "metadata": {},
   "outputs": [
    {
     "name": "stdout",
     "output_type": "stream",
     "text": [
      "     provinsi    penis    pororo  janggar  kursi  menang\n",
      "0        aceh  1859259    557883    55891     13   penis\n",
      "1       babel   172523    459074   132521      3  pororo\n",
      "2        bali    50584    824941   683831      9  pororo\n",
      "3      banten  1858836   3091433   546203     22  pororo\n",
      "4    bengkulu   217439    841841   139504      4  pororo\n",
      "5   gorontalo   198219    443241    36712      3  pororo\n",
      "6       jabar  6818588  12626407  2122700     91  pororo\n",
      "7     jakarta  1918497   1936508   814454     21  pororo\n",
      "8       jambi   431510   1166642   194276      8  pororo\n",
      "9      jateng  2585333  10811896  6990833     77  pororo\n",
      "10      jatim  3354742  14198523  3820276     87  pororo\n",
      "11      jogja   385533   1000769   585693      8  pororo\n",
      "12     kalbar   596637   1570661   426642     12  pororo\n",
      "13     kalsel   604694    964327   110159     11  pororo\n",
      "14    kalteng   201082    840220   124659      6  pororo\n",
      "15     kaltim   305970   1065322   165157      8  pororo\n",
      "16      kalut    60400    232398    40670      3  pororo\n",
      "17    lampung   727297   3244055   705979     20  pororo\n",
      "18     maluku   114652    377669   102825      4  pororo\n",
      "19      malut   122626    279884    57248      3  pororo\n",
      "20        ntb   688093   1765849   205094     11  pororo\n",
      "21        ntt   108043   1255332   681944     13  pororo\n",
      "22     papbar     9684     50381    23024      3  pororo\n",
      "23      papeg      145       439      141      3  pororo\n",
      "24     papsel     6167     40093    11562      3  pororo\n",
      "25    papteng     6312     34070    15143      3  pororo\n",
      "26      papua    20289    111313    55215      3  pororo\n",
      "27     paraya    20750     88647    35321      3  pororo\n",
      "28       riau   225401    384188    81222      4  pororo\n",
      "29       riau   225401    384188    81222     13  pororo\n",
      "30       riau   977839   1314200   239200      4  pororo\n",
      "31       riau   977839   1314200   239200     13  pororo\n",
      "32     sulbar   206371    488949    58009      4  pororo\n",
      "33     sulsel  1613417   2410205   208836     24  pororo\n",
      "34    sulteng   311145    990118   126655      7  pororo\n",
      "35     sultra   307760    935591    79018      6  pororo\n",
      "36      sulut   111622   1143051   263214      6  pororo\n",
      "37     sumbar  1514470   1062354   106266     14   penis\n",
      "38     sumsel   816248   2964478   497294     17  pororo\n",
      "39      sumut  1440405   2922497   609975     30  pororo\n"
     ]
    }
   ],
   "source": [
    "vote['menang'] = vote.iloc[:, 1:].idxmax(axis=1)\n",
    "print (vote)"
   ]
  },
  {
   "cell_type": "markdown",
   "metadata": {},
   "source": [
    "## Cari total suara dari setiap provinsi"
   ]
  },
  {
   "cell_type": "code",
   "execution_count": 60,
   "metadata": {},
   "outputs": [
    {
     "name": "stdout",
     "output_type": "stream",
     "text": [
      "Jumlah perolehan suara\n",
      "01 = 27\n",
      "02 = 570\n",
      "03 = 0    \n"
     ]
    }
   ],
   "source": [
    "electoralVote = {'penis': 0, 'pororo': 0, 'janggar': 0}\n",
    "\n",
    "for index, row in vote.iterrows():\n",
    "    # Extract the winner from the 'menang' column\n",
    "    winner_column = row['menang']\n",
    "    # Update the electoral votes dictionary based on the winner\n",
    "    electoralVote[winner_column] += row['kursi']\n",
    "    \n",
    "# print (electoralVote)\n",
    "print (f'Jumlah perolehan suara\\n\\\n",
    "01 = {electoralVote['penis']}\\n\\\n",
    "02 = {electoralVote['pororo']}\\n\\\n",
    "03 = {electoralVote['janggar']}\\\n",
    "    ')"
   ]
  }
 ],
 "metadata": {
  "kernelspec": {
   "display_name": "Python 3",
   "language": "python",
   "name": "python3"
  },
  "language_info": {
   "codemirror_mode": {
    "name": "ipython",
    "version": 3
   },
   "file_extension": ".py",
   "mimetype": "text/x-python",
   "name": "python",
   "nbconvert_exporter": "python",
   "pygments_lexer": "ipython3",
   "version": "3.12.2"
  }
 },
 "nbformat": 4,
 "nbformat_minor": 2
}
